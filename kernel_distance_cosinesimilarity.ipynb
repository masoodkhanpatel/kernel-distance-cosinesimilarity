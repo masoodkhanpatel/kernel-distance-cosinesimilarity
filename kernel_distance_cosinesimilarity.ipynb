{
  "nbformat": 4,
  "nbformat_minor": 0,
  "metadata": {
    "colab": {
      "name": "kernel-distance-cosinesimilarity",
      "provenance": [],
      "collapsed_sections": [],
      "authorship_tag": "ABX9TyP75jokSRMv8gGTqPsgXoBc",
      "include_colab_link": true
    },
    "kernelspec": {
      "name": "python3",
      "display_name": "Python 3"
    },
    "language_info": {
      "name": "python"
    }
  },
  "cells": [
    {
      "cell_type": "markdown",
      "metadata": {
        "id": "view-in-github",
        "colab_type": "text"
      },
      "source": [
        "<a href=\"https://colab.research.google.com/github/masoodkhanpatel/kernel-distance-cosinesimilarity/blob/main/kernel_distance_cosinesimilarity.ipynb\" target=\"_parent\"><img src=\"https://colab.research.google.com/assets/colab-badge.svg\" alt=\"Open In Colab\"/></a>"
      ]
    },
    {
      "cell_type": "code",
      "metadata": {
        "id": "IebDDbtz7ndh"
      },
      "source": [
        "import numpy as np"
      ],
      "execution_count": null,
      "outputs": []
    },
    {
      "cell_type": "code",
      "metadata": {
        "id": "rxRNUSFo7r1u"
      },
      "source": [
        "X1 = np.array([[0.8, -0.2, 0.2, -1.3, 0.2, 1.0, 1.2, 0.1, -2.3, 0.3],\n",
        "      [2.4, 0.2, 1.8, 0.4, 2.7, 2.8, 2.8, 0.0, 0.3, 0.7],\n",
        "      [-0.5, -1.3, -1.2, -1.3, -0.3, -0.9, -0.1, -1.1, -2.9, -.7]])"
      ],
      "execution_count": null,
      "outputs": []
    },
    {
      "cell_type": "code",
      "metadata": {
        "id": "iLWzS2xTD7Ui"
      },
      "source": [
        "X2 = np.array([[3.0, 0.4, 1.9, 1.3, 2.7, 3.5, 2.4, 1.6, 1.0, 1.0],\n",
        "      [-1.4, 0.3, -0.1, -1.3, 1.5, -1.8, -0.6, 0.5, -0.6, -0.6],\n",
        "      [2.5, 2.0, 1.7, 1.8, 3.0, 3.2, 2.3, 1.4, 1.7, 2.2]])"
      ],
      "execution_count": null,
      "outputs": []
    },
    {
      "cell_type": "code",
      "metadata": {
        "colab": {
          "base_uri": "https://localhost:8080/"
        },
        "id": "_nkpcMfyVsUp",
        "outputId": "34605b0e-e406-4eda-dc3c-4e1bb110cef7"
      },
      "source": [
        "print(\"Exercise 1:\")"
      ],
      "execution_count": null,
      "outputs": [
        {
          "output_type": "stream",
          "name": "stdout",
          "text": [
            "Exercise 1:\n"
          ]
        }
      ]
    },
    {
      "cell_type": "code",
      "metadata": {
        "colab": {
          "base_uri": "https://localhost:8080/"
        },
        "id": "c1yfmDAJa7RS",
        "outputId": "085a37fa-c764-45b2-d237-8ee7e0e5027d"
      },
      "source": [
        "X = np.concatenate((X1,X2), axis = 1)\n",
        "print(\"\\nCombined Dataset X:\\n\", X)"
      ],
      "execution_count": null,
      "outputs": [
        {
          "output_type": "stream",
          "name": "stdout",
          "text": [
            "\n",
            "Combined Dataset X:\n",
            " [[ 0.8 -0.2  0.2 -1.3  0.2  1.   1.2  0.1 -2.3  0.3  3.   0.4  1.9  1.3\n",
            "   2.7  3.5  2.4  1.6  1.   1. ]\n",
            " [ 2.4  0.2  1.8  0.4  2.7  2.8  2.8  0.   0.3  0.7 -1.4  0.3 -0.1 -1.3\n",
            "   1.5 -1.8 -0.6  0.5 -0.6 -0.6]\n",
            " [-0.5 -1.3 -1.2 -1.3 -0.3 -0.9 -0.1 -1.1 -2.9 -0.7  2.5  2.   1.7  1.8\n",
            "   3.   3.2  2.3  1.4  1.7  2.2]]\n"
          ]
        }
      ]
    },
    {
      "cell_type": "code",
      "metadata": {
        "colab": {
          "base_uri": "https://localhost:8080/"
        },
        "id": "OP8QISkZQeiX",
        "outputId": "d461f6ad-db4f-4057-fde3-7663c7075a9e"
      },
      "source": [
        "print(\"\\nMean vector of X:\", np.mean(X, axis=1))"
      ],
      "execution_count": null,
      "outputs": [
        {
          "output_type": "stream",
          "name": "stdout",
          "text": [
            "\n",
            "Mean vector of X: [0.94  0.5   0.575]\n"
          ]
        }
      ]
    },
    {
      "cell_type": "code",
      "metadata": {
        "colab": {
          "base_uri": "https://localhost:8080/"
        },
        "id": "B3PYoQLgbLhJ",
        "outputId": "e8fdaf74-6633-4d67-c917-86a2013ec471"
      },
      "source": [
        "variance_X = np.var(X, ddof=0, axis=1 )\n",
        "print(\"\\nVariance of X:\", variance_X)\n",
        "print(\"Total Variance:\", sum(variance_X))"
      ],
      "execution_count": null,
      "outputs": [
        {
          "output_type": "stream",
          "name": "stdout",
          "text": [
            "\n",
            "Variance of X: [1.8464   1.916    3.003875]\n",
            "Total Variance: 6.766274999999999\n"
          ]
        }
      ]
    },
    {
      "cell_type": "code",
      "metadata": {
        "colab": {
          "base_uri": "https://localhost:8080/"
        },
        "id": "Y_xS0xDzbc6S",
        "outputId": "898e7c4c-50b6-43ec-a159-397ae29c11d2"
      },
      "source": [
        "cov_mat = np.cov(X, ddof=0)\n",
        "print(\"\\nCovariance Matrix of X:\\n\", cov_mat)"
      ],
      "execution_count": null,
      "outputs": [
        {
          "output_type": "stream",
          "name": "stdout",
          "text": [
            "\n",
            "Covariance Matrix of X:\n",
            " [[ 1.8464   -0.5755    2.03    ]\n",
            " [-0.5755    1.916    -1.2275  ]\n",
            " [ 2.03     -1.2275    3.003875]]\n"
          ]
        }
      ]
    },
    {
      "cell_type": "code",
      "metadata": {
        "id": "VanOUTv0ZCZI"
      },
      "source": [
        "evalue, evect = np.linalg.eig(cov_mat)"
      ],
      "execution_count": null,
      "outputs": []
    },
    {
      "cell_type": "code",
      "metadata": {
        "colab": {
          "base_uri": "https://localhost:8080/"
        },
        "id": "Gz4OgeGIbjVP",
        "outputId": "e7e2f0f9-25a0-4755-b0eb-848fa7ffe79b"
      },
      "source": [
        "print(\"\\nEigenvalues:\\n\", evalue)"
      ],
      "execution_count": null,
      "outputs": [
        {
          "output_type": "stream",
          "name": "stdout",
          "text": [
            "\n",
            "Eigenvalues:\n",
            " [5.09276211 0.25165885 1.42185405]\n"
          ]
        }
      ]
    },
    {
      "cell_type": "code",
      "metadata": {
        "colab": {
          "base_uri": "https://localhost:8080/"
        },
        "id": "pHA_3CDCbkqq",
        "outputId": "ab3934ea-8488-4120-80a2-7f7190ed1630"
      },
      "source": [
        "print(\"\\nEigenvectors:\\n\", evect)"
      ],
      "execution_count": null,
      "outputs": [
        {
          "output_type": "stream",
          "name": "stdout",
          "text": [
            "\n",
            "Eigenvectors:\n",
            " [[-0.53723389  0.7366165   0.41082342]\n",
            " [ 0.38691292 -0.21757334  0.89608048]\n",
            " [-0.7494519  -0.64035769  0.16811867]]\n"
          ]
        }
      ]
    },
    {
      "cell_type": "code",
      "metadata": {
        "colab": {
          "base_uri": "https://localhost:8080/"
        },
        "id": "yBLIM9zwd-pt",
        "outputId": "25f4eaa1-dac9-40c2-e7f5-409b132078ca"
      },
      "source": [
        "pca_sorted_index = np.argsort(-1*evalue)\n",
        "print(\"\\nFirst PCA:\\n\", evect[:, pca_sorted_index[0]])\n",
        "print(\"\\nSecond PCA:\\n\", evect[:, pca_sorted_index[1]])"
      ],
      "execution_count": null,
      "outputs": [
        {
          "output_type": "stream",
          "name": "stdout",
          "text": [
            "\n",
            "First PCA:\n",
            " [-0.53723389  0.38691292 -0.7494519 ]\n",
            "\n",
            "Second PCA:\n",
            " [0.41082342 0.89608048 0.16811867]\n"
          ]
        }
      ]
    },
    {
      "cell_type": "code",
      "metadata": {
        "id": "4yGXDtmbd6fO"
      },
      "source": [
        ""
      ],
      "execution_count": null,
      "outputs": []
    },
    {
      "cell_type": "code",
      "metadata": {
        "colab": {
          "base_uri": "https://localhost:8080/"
        },
        "id": "hHNPbBhpeYiL",
        "outputId": "073cb0d8-eac7-4f6b-dbf1-b4e8551f17e6"
      },
      "source": [
        "print(\"\\n-----------------------------------------------------------------------\")"
      ],
      "execution_count": null,
      "outputs": [
        {
          "output_type": "stream",
          "name": "stdout",
          "text": [
            "\n",
            "-----------------------------------------------------------------------\n"
          ]
        }
      ]
    },
    {
      "cell_type": "code",
      "metadata": {
        "colab": {
          "base_uri": "https://localhost:8080/"
        },
        "id": "xGJMYELiVzQC",
        "outputId": "ffe78c1c-0879-471d-d67c-ff03b53b7d1c"
      },
      "source": [
        "print(\"Exercise 2:\")"
      ],
      "execution_count": null,
      "outputs": [
        {
          "output_type": "stream",
          "name": "stdout",
          "text": [
            "Exercise 2:\n"
          ]
        }
      ]
    },
    {
      "cell_type": "code",
      "metadata": {
        "id": "rE-llaqbHcBo"
      },
      "source": [
        "matrix = [[5, 3, 1, 0, 3, 0, 2],\n",
        "       [0, 0, 2, 3, 7, 4, 0],\n",
        "       [0, 0, 0, 4, 0, 3, 1],\n",
        "       [3, 2, 2, 0, 0, 0, 3]] "
      ],
      "execution_count": null,
      "outputs": []
    },
    {
      "cell_type": "code",
      "metadata": {
        "colab": {
          "base_uri": "https://localhost:8080/"
        },
        "id": "Dzp5XmHNWop7",
        "outputId": "a9547bed-01e6-4c88-fc7e-65268d4589dc"
      },
      "source": [
        "similarity_matrix = []\n",
        "for a in matrix:\n",
        "  row = []\n",
        "  for b in matrix:\n",
        "    similarity = np.dot(a, b) / (np.linalg.norm(a)*np.linalg.norm(b))\n",
        "    row.append(similarity)\n",
        "  similarity_matrix.append(row)\n",
        "similarity_matrix = np.array(similarity_matrix)\n",
        "print(\"\\nSimilarity Matrix:\\n\", similarity_matrix)"
      ],
      "execution_count": null,
      "outputs": [
        {
          "output_type": "stream",
          "name": "stdout",
          "text": [
            "\n",
            "Similarity Matrix:\n",
            " [[1.         0.37588926 0.05661385 0.82090085]\n",
            " [0.37588926 1.         0.53293871 0.08882312]\n",
            " [0.05661385 0.53293871 1.         0.11538462]\n",
            " [0.82090085 0.08882312 0.11538462 1.        ]]\n"
          ]
        }
      ]
    },
    {
      "cell_type": "code",
      "metadata": {
        "colab": {
          "base_uri": "https://localhost:8080/"
        },
        "id": "pD361z03eeMO",
        "outputId": "b388e597-0a40-42af-9f14-178f4cbe6c07"
      },
      "source": [
        "print(\"\\n-----------------------------------------------------------------------\")"
      ],
      "execution_count": null,
      "outputs": [
        {
          "output_type": "stream",
          "name": "stdout",
          "text": [
            "\n",
            "-----------------------------------------------------------------------\n"
          ]
        }
      ]
    },
    {
      "cell_type": "code",
      "metadata": {
        "colab": {
          "base_uri": "https://localhost:8080/"
        },
        "id": "grRB7kILV41b",
        "outputId": "dac6ff3f-d16e-49f8-8e5a-8faa37400674"
      },
      "source": [
        "print(\"Exercise 3:\")"
      ],
      "execution_count": null,
      "outputs": [
        {
          "output_type": "stream",
          "name": "stdout",
          "text": [
            "Exercise 3:\n"
          ]
        }
      ]
    },
    {
      "cell_type": "code",
      "metadata": {
        "id": "8OY7RDRgI3_L"
      },
      "source": [
        "x = np.array([1, -2, 1])\n",
        "y = np.array([0, -1, 2])\n",
        "z = np.array([-2, 0, 1])"
      ],
      "execution_count": null,
      "outputs": []
    },
    {
      "cell_type": "code",
      "metadata": {
        "id": "15CChFkDr2dv"
      },
      "source": [
        "def K(a, b):\n",
        "  return (1 + np.dot(a, b))**2"
      ],
      "execution_count": null,
      "outputs": []
    },
    {
      "cell_type": "code",
      "metadata": {
        "colab": {
          "base_uri": "https://localhost:8080/"
        },
        "id": "ReGU-1oukM3F",
        "outputId": "f89d4fb9-7967-4bb1-f947-3390e0b00039"
      },
      "source": [
        "print(\"\\nK(x, y): \", K(x, y))\n",
        "print(\"K(x, z): \", K(x, z))\n",
        "print(\"K(y, z): \", K(y, z))"
      ],
      "execution_count": null,
      "outputs": [
        {
          "output_type": "stream",
          "name": "stdout",
          "text": [
            "\n",
            "K(x, y):  25\n",
            "K(x, z):  0\n",
            "K(y, z):  9\n"
          ]
        }
      ]
    },
    {
      "cell_type": "code",
      "metadata": {
        "id": "qyGVIrcXj9JV"
      },
      "source": [
        "def kernel_matrix(x):\n",
        "  k = []\n",
        "  for i in x:\n",
        "    row = []\n",
        "    for j in x:\n",
        "      row.append(K(i,j))\n",
        "    k.append(row)\n",
        "  k = np.array(k)\n",
        "  return k"
      ],
      "execution_count": null,
      "outputs": []
    },
    {
      "cell_type": "code",
      "metadata": {
        "id": "uXRQnPykacpd"
      },
      "source": [
        "vectors = [x, y, z]"
      ],
      "execution_count": null,
      "outputs": []
    },
    {
      "cell_type": "code",
      "metadata": {
        "colab": {
          "base_uri": "https://localhost:8080/"
        },
        "id": "rkHhS2FSfXs-",
        "outputId": "a5a3177d-3580-49b8-a52f-4dd537de905a"
      },
      "source": [
        "print(\"\\nKernel Matrix for x, y and z:\\n\", kernel_matrix(vectors))"
      ],
      "execution_count": null,
      "outputs": [
        {
          "output_type": "stream",
          "name": "stdout",
          "text": [
            "\n",
            "Kernel Matrix for x, y and z:\n",
            " [[49 25  0]\n",
            " [25 36  9]\n",
            " [ 0  9 36]]\n"
          ]
        }
      ]
    },
    {
      "cell_type": "code",
      "metadata": {
        "id": "abB9lqWhx_PX"
      },
      "source": [
        "def dist_in_feature_space(a, b):\n",
        "  temp = K(a, a) + K(b, b) - 2*K(a, b)\n",
        "  return np.sqrt(temp)"
      ],
      "execution_count": null,
      "outputs": []
    },
    {
      "cell_type": "code",
      "metadata": {
        "colab": {
          "base_uri": "https://localhost:8080/"
        },
        "id": "Gtx0-TtwaYdl",
        "outputId": "f0311dc6-7135-4880-e8cd-4dbf9d0f66e1"
      },
      "source": [
        "distance_matrix = []\n",
        "for a in vectors:\n",
        "  row = []\n",
        "  for b in vectors:\n",
        "    distance = dist_in_feature_space(a, b)\n",
        "    row.append(distance)\n",
        "  distance_matrix.append(row)\n",
        "distance_matrix = np.array(distance_matrix)\n",
        "print(\"\\nDistance Matrix:\\n\", distance_matrix)"
      ],
      "execution_count": null,
      "outputs": [
        {
          "output_type": "stream",
          "name": "stdout",
          "text": [
            "\n",
            "Distance Matrix:\n",
            " [[0.         5.91607978 9.21954446]\n",
            " [5.91607978 0.         7.34846923]\n",
            " [9.21954446 7.34846923 0.        ]]\n"
          ]
        }
      ]
    },
    {
      "cell_type": "code",
      "metadata": {
        "id": "DyCidWaRccYn"
      },
      "source": [
        "def cosine_similarity(a, b):\n",
        "  return K(a, b)/np.sqrt(K(a, a)*K(b, b))"
      ],
      "execution_count": null,
      "outputs": []
    },
    {
      "cell_type": "code",
      "metadata": {
        "colab": {
          "base_uri": "https://localhost:8080/"
        },
        "id": "cSpLdMxYcrZ9",
        "outputId": "74bd0825-5a89-4e09-c76c-a8dd1bcfb63c"
      },
      "source": [
        "print(\"\\nCosine Similarity(x, y): \", cosine_similarity(x, y))\n",
        "print(\"Cosine Similarity(x, z): \", cosine_similarity(x, z))\n",
        "print(\"Cosine Similarity(y, z): \", cosine_similarity(y, z))"
      ],
      "execution_count": null,
      "outputs": [
        {
          "output_type": "stream",
          "name": "stdout",
          "text": [
            "\n",
            "Cosine Similarity(x, y):  0.5952380952380952\n",
            "Cosine Similarity(x, z):  0.0\n",
            "Cosine Similarity(y, z):  0.25\n"
          ]
        }
      ]
    },
    {
      "cell_type": "code",
      "metadata": {
        "id": "a-vhNW0hfwrD",
        "colab": {
          "base_uri": "https://localhost:8080/"
        },
        "outputId": "4071dd1d-f1bc-4d2e-db8c-7aad4453e213"
      },
      "source": [
        "cosine_similarity_matrix = []\n",
        "for a in vectors:\n",
        "  row = []\n",
        "  for b in vectors:\n",
        "    cosine_sim = cosine_similarity(a, b)\n",
        "    row.append(cosine_sim)\n",
        "  cosine_similarity_matrix.append(row)\n",
        "cosine_similarity_matrix = np.array(cosine_similarity_matrix)\n",
        "print(\"\\nCosine Similarity Matrix:\\n\", cosine_similarity_matrix)"
      ],
      "execution_count": null,
      "outputs": [
        {
          "output_type": "stream",
          "name": "stdout",
          "text": [
            "\n",
            "Cosine Similarity Matrix:\n",
            " [[1.        0.5952381 0.       ]\n",
            " [0.5952381 1.        0.25     ]\n",
            " [0.        0.25      1.       ]]\n"
          ]
        }
      ]
    },
    {
      "cell_type": "code",
      "metadata": {
        "id": "du6LLGg5GLxE"
      },
      "source": [
        ""
      ],
      "execution_count": null,
      "outputs": []
    }
  ]
}